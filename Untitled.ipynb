{
 "cells": [
  {
   "cell_type": "code",
   "execution_count": 3,
   "metadata": {},
   "outputs": [
    {
     "data": {
      "text/plain": [
       "'f'"
      ]
     },
     "execution_count": 3,
     "metadata": {},
     "output_type": "execute_result"
    }
   ],
   "source": [
    "hole = 'uhdfpjwjnfpowefwñnf'\n",
    "hole[len(hole)-1]"
   ]
  },
  {
   "cell_type": "code",
   "execution_count": 36,
   "metadata": {},
   "outputs": [],
   "source": [
    "def prev_mult_of_three(n):\n",
    "    #your solution\n",
    "    while n %3 != 0:\n",
    "        n_str = str(n)\n",
    "        long = len(n_str)-1\n",
    "        n_str = n_str.rstrip(n_str[long])\n",
    "        if n_str == '':\n",
    "            return None\n",
    "        else:\n",
    "            n = int(n_str)\n",
    "    return n"
   ]
  },
  {
   "cell_type": "code",
   "execution_count": 44,
   "metadata": {},
   "outputs": [
    {
     "name": "stdout",
     "output_type": "stream",
     "text": [
      "827582466\n"
     ]
    }
   ],
   "source": [
    "print(prev_mult_of_three(8275822))"
   ]
  },
  {
   "cell_type": "code",
   "execution_count": 8,
   "metadata": {},
   "outputs": [
    {
     "data": {
      "text/plain": [
       "['__add__',\n",
       " '__class__',\n",
       " '__contains__',\n",
       " '__delattr__',\n",
       " '__dir__',\n",
       " '__doc__',\n",
       " '__eq__',\n",
       " '__format__',\n",
       " '__ge__',\n",
       " '__getattribute__',\n",
       " '__getitem__',\n",
       " '__getnewargs__',\n",
       " '__gt__',\n",
       " '__hash__',\n",
       " '__init__',\n",
       " '__init_subclass__',\n",
       " '__iter__',\n",
       " '__le__',\n",
       " '__len__',\n",
       " '__lt__',\n",
       " '__mod__',\n",
       " '__mul__',\n",
       " '__ne__',\n",
       " '__new__',\n",
       " '__reduce__',\n",
       " '__reduce_ex__',\n",
       " '__repr__',\n",
       " '__rmod__',\n",
       " '__rmul__',\n",
       " '__setattr__',\n",
       " '__sizeof__',\n",
       " '__str__',\n",
       " '__subclasshook__',\n",
       " 'capitalize',\n",
       " 'casefold',\n",
       " 'center',\n",
       " 'count',\n",
       " 'encode',\n",
       " 'endswith',\n",
       " 'expandtabs',\n",
       " 'find',\n",
       " 'format',\n",
       " 'format_map',\n",
       " 'index',\n",
       " 'isalnum',\n",
       " 'isalpha',\n",
       " 'isascii',\n",
       " 'isdecimal',\n",
       " 'isdigit',\n",
       " 'isidentifier',\n",
       " 'islower',\n",
       " 'isnumeric',\n",
       " 'isprintable',\n",
       " 'isspace',\n",
       " 'istitle',\n",
       " 'isupper',\n",
       " 'join',\n",
       " 'ljust',\n",
       " 'lower',\n",
       " 'lstrip',\n",
       " 'maketrans',\n",
       " 'partition',\n",
       " 'replace',\n",
       " 'rfind',\n",
       " 'rindex',\n",
       " 'rjust',\n",
       " 'rpartition',\n",
       " 'rsplit',\n",
       " 'rstrip',\n",
       " 'split',\n",
       " 'splitlines',\n",
       " 'startswith',\n",
       " 'strip',\n",
       " 'swapcase',\n",
       " 'title',\n",
       " 'translate',\n",
       " 'upper',\n",
       " 'zfill']"
      ]
     },
     "execution_count": 8,
     "metadata": {},
     "output_type": "execute_result"
    }
   ],
   "source": [
    "dir(str)"
   ]
  },
  {
   "cell_type": "code",
   "execution_count": 43,
   "metadata": {},
   "outputs": [],
   "source": [
    "import random as rd"
   ]
  },
  {
   "cell_type": "code",
   "execution_count": 54,
   "metadata": {},
   "outputs": [],
   "source": [
    "class Soldier():\n",
    "    def __init__(self, health, strength):\n",
    "        self.health = health\n",
    "        self.strength = strength\n",
    "\n",
    "    def attack(self):\n",
    "        return self.strength\n",
    "\n",
    "    def receiveDamage(self, Damage):\n",
    "        self.health -= Damage"
   ]
  },
  {
   "cell_type": "code",
   "execution_count": 101,
   "metadata": {},
   "outputs": [],
   "source": [
    "class Viking(Soldier):\n",
    "    def __init__(self, name,  health, strength):\n",
    "        super().__init__(health, strength)\n",
    "        self.name = name\n",
    "\n",
    "    \n",
    "    def receiveDamage(self, damage):\n",
    "        self.health -= damage\n",
    "        if self.health > 0:\n",
    "            return f\"{self.name} has received {damage} points of damage\"\n",
    "        else:\n",
    "            return f\"{self.name} has died in act of combat\"\n",
    "    \n",
    "    \n",
    "    def battleCry(self):\n",
    "        return \"Odin Owns You All!\"\n",
    "    pass\n",
    "\n",
    "# Saxon\n",
    "\n",
    "\n",
    "class Saxon(Soldier):\n",
    "    \n",
    "    def __init__(self,  health, strength):\n",
    "        super().__init__(health, strength)\n",
    "    \n",
    "    \n",
    "    def receiveDamage(self, damage):\n",
    "        #print(self.health)\n",
    "        self.health -= damage\n",
    "        if self.health > 0:\n",
    "            return f\"A Saxon has received {damage} points of damage\"\n",
    "        else:\n",
    "            return \"A Saxon has died in combat\"\n",
    "    pass"
   ]
  },
  {
   "cell_type": "code",
   "execution_count": 136,
   "metadata": {},
   "outputs": [],
   "source": [
    "class War():\n",
    "    vikingArmy = []\n",
    "    saxonArmy = []\n",
    "\n",
    "\n",
    "    def addViking(self, Viking):\n",
    "        print\n",
    "        self.vikingArmy.append(Viking.__dict__)\n",
    "        \n",
    "        \n",
    "    def addSaxon(self, Saxon):\n",
    "        self.saxonArmy.append(Saxon)\n",
    "\n",
    "    def vikingAttack(self):\n",
    "        vik = rd.choice(self.vikingArmy)\n",
    "        sax = rd.choice(self.saxonArmy)\n",
    "        atac = sax.receiveDamage(vik.attack())\n",
    "        if atac == \"A Saxon has died in combat\":\n",
    "            self.saxonArmy.remove(sax)\n",
    "    \n",
    "    def saxonAttack(self):\n",
    "        vik = rd.choice(self.vikingArmy)\n",
    "        sax = rd.choice(self.saxonArmy)\n",
    "        atac = vik.receiveDamage(sax.attack())\n",
    "        if \"has died\" in atac:\n",
    "            self.vikingArmy.remove(vik)\n",
    "    \n",
    "    def showStatus(self):\n",
    "        if len(self.saxonArmy) == 0:\n",
    "            return \"Vikings have won the war of the century!\"\n",
    "        if len(self.vikingArmy) == 0:\n",
    "            return \"Saxons have fought for their lives and survive another day...\"\n",
    "        else:\n",
    "            return \"Vikings and Saxons are still in the thick of battle.\"\n",
    "\n",
    "    pass"
   ]
  },
  {
   "cell_type": "code",
   "execution_count": 137,
   "metadata": {},
   "outputs": [],
   "source": [
    "vikingo = Viking('Rodrigo',300, 50)\n",
    "vikingo1 = Viking('Marc',250, 100)\n",
    "vikingo2 = Viking('Ricardo',450, 10)\n",
    "vikingo3 = Viking('Segio',350, 60)\n",
    "\n",
    "sajon = Saxon(350, 55)\n",
    "sajon1 = Saxon(300, 55)\n",
    "sajon2 = Saxon(400, 55)\n",
    "sajon3 = Saxon(250, 55)\n",
    "\n",
    "\n",
    "guerra.addViking(vikingo)\n",
    "guerra.addViking(vikingo1)\n",
    "guerra.addViking(vikingo2)\n",
    "guerra.addViking(vikingo3)\n",
    "guerra.addSaxon(sajon)\n",
    "guerra.addSaxon(sajon1)\n",
    "guerra.addSaxon(sajon2)\n",
    "guerra.addSaxon(sajon3)\n",
    "\n"
   ]
  },
  {
   "cell_type": "code",
   "execution_count": 138,
   "metadata": {},
   "outputs": [
    {
     "name": "stdout",
     "output_type": "stream",
     "text": [
      "[<__main__.Viking object at 0x7fd2c26030a0>, <__main__.Viking object at 0x7fd2c23a6370>, <__main__.Viking object at 0x7fd2c2603be0>, <__main__.Viking object at 0x7fd2c2603f40>, <__main__.Viking object at 0x7fd2c23b4550>, <__main__.Viking object at 0x7fd2c23b40d0>, <__main__.Viking object at 0x7fd2c23b4fa0>, <__main__.Viking object at 0x7fd2c23b4310>, <__main__.Viking object at 0x7fd2c23a4100>, <__main__.Viking object at 0x7fd2c23a4190>, <__main__.Viking object at 0x7fd2c23a4820>, <__main__.Viking object at 0x7fd2c23a4130>, <__main__.Viking object at 0x7fd2c24790a0>, <__main__.Viking object at 0x7fd2c2479a60>, <__main__.Viking object at 0x7fd2c2479df0>, <__main__.Viking object at 0x7fd2c24791f0>, <__main__.Viking object at 0x7fd2c23a6c70>, <__main__.Viking object at 0x7fd2c23a6520>, <__main__.Viking object at 0x7fd2c23a6610>, <__main__.Viking object at 0x7fd2c2670e80>, <__main__.Viking object at 0x7fd2c260cee0>, <__main__.Viking object at 0x7fd2c260c280>, <__main__.Viking object at 0x7fd2c260cc10>, <__main__.Viking object at 0x7fd2c260c100>, <__main__.Viking object at 0x7fd2c260c610>, <__main__.Viking object at 0x7fd2c260c370>, <__main__.Viking object at 0x7fd2c260c6d0>, <__main__.Viking object at 0x7fd2c260c790>]\n",
      "{'health': 40, 'strength': 55}\n"
     ]
    }
   ],
   "source": [
    "print(guerra.vikingArmy)\n",
    "print(guerra.saxonArmy[2].__dict__)"
   ]
  },
  {
   "cell_type": "code",
   "execution_count": 131,
   "metadata": {},
   "outputs": [
    {
     "data": {
      "text/plain": [
       "'Vikings and Saxons are still in the thick of battle.'"
      ]
     },
     "execution_count": 131,
     "metadata": {},
     "output_type": "execute_result"
    }
   ],
   "source": [
    "guerra.showStatus()"
   ]
  },
  {
   "cell_type": "code",
   "execution_count": 129,
   "metadata": {},
   "outputs": [
    {
     "name": "stdout",
     "output_type": "stream",
     "text": [
      "90\n"
     ]
    }
   ],
   "source": [
    "guerra.vikingAttack()"
   ]
  },
  {
   "cell_type": "code",
   "execution_count": 127,
   "metadata": {},
   "outputs": [
    {
     "name": "stdout",
     "output_type": "stream",
     "text": [
      "Vikings and Saxons are still in the thick of battle.\n"
     ]
    }
   ],
   "source": [
    "a = guerra.showStatus()\n",
    "\n",
    "print(a)"
   ]
  },
  {
   "cell_type": "code",
   "execution_count": 139,
   "metadata": {},
   "outputs": [],
   "source": [
    "import re"
   ]
  },
  {
   "cell_type": "code",
   "execution_count": 175,
   "metadata": {},
   "outputs": [
    {
     "name": "stdout",
     "output_type": "stream",
     "text": [
      "False\n",
      "3,\n"
     ]
    }
   ],
   "source": [
    "text = '   3 ,'\n",
    "text = re.sub(' ','', text)\n",
    "print(re.findall('[a-z ,]', text) == [])\n",
    "print(text)"
   ]
  },
  {
   "cell_type": "code",
   "execution_count": null,
   "metadata": {},
   "outputs": [],
   "source": []
  }
 ],
 "metadata": {
  "kernelspec": {
   "display_name": "Python 3",
   "language": "python",
   "name": "python3"
  },
  "language_info": {
   "codemirror_mode": {
    "name": "ipython",
    "version": 3
   },
   "file_extension": ".py",
   "mimetype": "text/x-python",
   "name": "python",
   "nbconvert_exporter": "python",
   "pygments_lexer": "ipython3",
   "version": "3.8.5"
  }
 },
 "nbformat": 4,
 "nbformat_minor": 4
}
